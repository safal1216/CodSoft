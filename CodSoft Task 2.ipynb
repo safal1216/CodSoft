{
 "cells": [
  {
   "cell_type": "code",
   "execution_count": 12,
   "id": "254518bd",
   "metadata": {},
   "outputs": [],
   "source": [
    "import random\n",
    "import string\n",
    "import tkinter as tk\n",
    "from tkinter import messagebox\n",
    "\n",
    "#Function for generating password\n",
    "def gen_password(length):\n",
    "    characters = string.ascii_letters + string.digits + string.punctuation\n",
    "    password = ''.join(random.choice(characters) for _ in range(length))\n",
    "    return password\n",
    "\n",
    "def gen_button_click():\n",
    "    try:\n",
    "        password_length = int(password_length_entry.get())\n",
    "        if password_length <= 0:\n",
    "            messagebox.showerror(\"Error\", \"Please enter a valid positive integer.\")\n",
    "            return\n",
    "\n",
    "        password = gen_password(password_length)\n",
    "        generated_password_label.config(text=\"Generated Password: \" + password)\n",
    "\n",
    "    except ValueError:\n",
    "        messagebox.showerror(\"Error\", \"Invalid input. Please enter a valid value.\")\n",
    "\n",
    "# Create the main application window\n",
    "root = tk.Tk()\n",
    "root.title(\"Password Generator\")\n",
    "\n",
    "\n",
    "# Define different colors for the buttons\n",
    "color_1 = '#33AAFF'  # Light Blue\n",
    "\n",
    "# Create and configure widgets\n",
    "password_length_label = tk.Label(root, text=\"Enter the length of password:\")\n",
    "password_length_entry = tk.Entry(root)\n",
    "generate_button = tk.Button(root, text=\"Generate\", bg=color_1, command=gen_button_click)\n",
    "generated_password_label = tk.Label(root, text=\"Generated Password: \")\n",
    "\n",
    "# Place widgets using grid layout\n",
    "password_length_label.grid(row=0, column=0, padx=10, pady=10)\n",
    "password_length_entry.grid(row=0, column=1, padx=10, pady=10)\n",
    "generate_button.grid(row=1, column=0, columnspan=2, padx=10, pady=10)\n",
    "generated_password_label.grid(row=2, column=0, columnspan=2, padx=10, pady=10)\n",
    "\n",
    "# Start the tkinter main loop\n",
    "root.mainloop()\n"
   ]
  },
  {
   "cell_type": "code",
   "execution_count": null,
   "id": "a0b7d150",
   "metadata": {},
   "outputs": [],
   "source": []
  }
 ],
 "metadata": {
  "kernelspec": {
   "display_name": "Python 3 (ipykernel)",
   "language": "python",
   "name": "python3"
  },
  "language_info": {
   "codemirror_mode": {
    "name": "ipython",
    "version": 3
   },
   "file_extension": ".py",
   "mimetype": "text/x-python",
   "name": "python",
   "nbconvert_exporter": "python",
   "pygments_lexer": "ipython3",
   "version": "3.9.12"
  }
 },
 "nbformat": 4,
 "nbformat_minor": 5
}
